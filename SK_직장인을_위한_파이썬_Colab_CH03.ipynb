{
  "nbformat": 4,
  "nbformat_minor": 0,
  "metadata": {
    "colab": {
      "name": "SK 직장인을 위한 파이썬_Colab_CH03.ipynb",
      "provenance": [],
      "collapsed_sections": [
        "vNsBOZ18xvkP",
        "TYeyM3iRz0Ir",
        "ODgO5y4b7R2J",
        "4vBOMu1W2oAJ",
        "34uYL40w-GaU",
        "4MlLYFWJSOcy",
        "y0RMx4uEe-nP",
        "AvXd2slAh2Ks",
        "UHcFMQzdVfXN",
        "7GQ77kJEaM9a",
        "_tK1QkmsnE2X",
        "Rwukh3YGreun",
        "WbCv4BYvFh3f",
        "0B5gfmZ8yAaH",
        "8_x6DWY2yKHt",
        "NyhOE0m_vk7D"
      ],
      "authorship_tag": "ABX9TyP2OUpp3T4lXz4PLQRRZV3Y",
      "include_colab_link": true
    },
    "kernelspec": {
      "name": "python3",
      "display_name": "Python 3"
    },
    "language_info": {
      "name": "python"
    }
  },
  "cells": [
    {
      "cell_type": "markdown",
      "metadata": {
        "id": "view-in-github",
        "colab_type": "text"
      },
      "source": [
        "<a href=\"https://colab.research.google.com/github/sdw1621/SK_onlile/blob/main/SK_%EC%A7%81%EC%9E%A5%EC%9D%B8%EC%9D%84_%EC%9C%84%ED%95%9C_%ED%8C%8C%EC%9D%B4%EC%8D%AC_Colab_CH03.ipynb\" target=\"_parent\"><img src=\"https://colab.research.google.com/assets/colab-badge.svg\" alt=\"Open In Colab\"/></a>"
      ]
    },
    {
      "cell_type": "markdown",
      "source": [
        "#**CH 03. 파이썬 자료형과 변수**\n",
        "\n",
        "\n"
      ],
      "metadata": {
        "id": "ptQuozkawo4m"
      }
    },
    {
      "cell_type": "markdown",
      "source": [
        "##**3.1. 숫자 자료형**"
      ],
      "metadata": {
        "id": "vNsBOZ18xvkP"
      }
    },
    {
      "cell_type": "code",
      "source": [
        "print(5)    # 양수형 정수\n",
        "print(-10)  # 음수형 정수\n",
        "print(3.14) # 소수 2번째 자리 실수\n",
        "print(1000) # 양수형 정수\n",
        "print(5+3)  # 덧셈 연산\n",
        "print(2*8)  # 곱셈 연산\n",
        "print(3*(3+1))"
      ],
      "metadata": {
        "colab": {
          "base_uri": "https://localhost:8080/"
        },
        "id": "zJQt9YOywS9j",
        "outputId": "75063776-8fdb-4e5e-ae7e-fc16a354148b"
      },
      "execution_count": null,
      "outputs": [
        {
          "output_type": "stream",
          "name": "stdout",
          "text": [
            "5\n",
            "-10\n",
            "3.14\n",
            "1000\n",
            "8\n",
            "16\n",
            "12\n"
          ]
        }
      ]
    },
    {
      "cell_type": "markdown",
      "source": [
        "##**3.2. 문자열 자료형**"
      ],
      "metadata": {
        "id": "TYeyM3iRz0Ir"
      }
    },
    {
      "cell_type": "code",
      "source": [
        "print('풍선') # 문자열 앞 뒤 홀따옴표\n",
        "print(\"나비\") # 문자열 앞 뒤 쌍따옴표\n",
        "\n",
        "print(\"ㅋㅋㅋㅋㅋㅋㅋㅋㅋ\")\n",
        "print(\"ㅋ\"*9)"
      ],
      "metadata": {
        "colab": {
          "base_uri": "https://localhost:8080/"
        },
        "id": "0WVoBxboztvd",
        "outputId": "003b7a64-1208-49a6-c281-343c779739b5"
      },
      "execution_count": null,
      "outputs": [
        {
          "output_type": "stream",
          "name": "stdout",
          "text": [
            "풍선\n",
            "나비\n",
            "ㅋㅋㅋㅋㅋㅋㅋㅋㅋ\n",
            "ㅋㅋㅋㅋㅋㅋㅋㅋㅋ\n"
          ]
        }
      ]
    },
    {
      "cell_type": "markdown",
      "source": [
        "##**3.3. 문자열 숫자 → 숫자 자료 형 변환**"
      ],
      "metadata": {
        "id": "ODgO5y4b7R2J"
      }
    },
    {
      "cell_type": "code",
      "source": [
        "print('3') # 문자열형 숫자\n",
        "print(type('3')) # '3' 데이터 형 확인"
      ],
      "metadata": {
        "colab": {
          "base_uri": "https://localhost:8080/"
        },
        "id": "i7Gj49PG5-Tu",
        "outputId": "d3e3a2c8-d80a-414d-bb41-44aa7d1c9192"
      },
      "execution_count": null,
      "outputs": [
        {
          "output_type": "stream",
          "name": "stdout",
          "text": [
            "3\n",
            "<class 'str'>\n"
          ]
        }
      ]
    },
    {
      "cell_type": "code",
      "source": [
        "type_change = '3'\n",
        "print(type(type_change))\n",
        "\n",
        "int_type = int(type_change)\n",
        "# print(int_type)\n",
        "print(type(int_type))"
      ],
      "metadata": {
        "colab": {
          "base_uri": "https://localhost:8080/"
        },
        "id": "8qA4sFi_8Wt6",
        "outputId": "20e4d2c8-551d-4da7-f646-775b9886b059"
      },
      "execution_count": null,
      "outputs": [
        {
          "output_type": "stream",
          "name": "stdout",
          "text": [
            "<class 'str'>\n",
            "<class 'int'>\n"
          ]
        }
      ]
    },
    {
      "cell_type": "markdown",
      "source": [
        "##**3.4. boolean 자료형**"
      ],
      "metadata": {
        "id": "4vBOMu1W2oAJ"
      }
    },
    {
      "cell_type": "code",
      "source": [
        "# 불리언 => 참 / 거짓\n",
        "\n",
        "print(5 > 10) # False 거짓\n",
        "print(5 < 10) # True 참\n",
        "print(True) # True\n",
        "print(False)  # False\n",
        "print(not True) # False\n",
        "print(not False) # True\n",
        "print(not (5>10)) # True"
      ],
      "metadata": {
        "colab": {
          "base_uri": "https://localhost:8080/"
        },
        "id": "N4O3oGNQz5Zo",
        "outputId": "c221df54-28dd-4a2f-b3c0-9b2304731778"
      },
      "execution_count": null,
      "outputs": [
        {
          "output_type": "stream",
          "name": "stdout",
          "text": [
            "False\n",
            "True\n",
            "True\n",
            "False\n",
            "False\n",
            "True\n",
            "True\n"
          ]
        }
      ]
    },
    {
      "cell_type": "markdown",
      "source": [
        "##**3.5. 변수**\n"
      ],
      "metadata": {
        "id": "34uYL40w-GaU"
      }
    },
    {
      "cell_type": "code",
      "source": [
        "# 애완동물을 소개해 주세요!\n",
        "\n",
        "animal = \"강아지\"\n",
        "name = \"연탄이\"\n",
        "age = 4\n",
        "hobby = \"산책\"\n",
        "is_adult = age >= 3\n",
        "\n",
        "print(\"우리집 \" + animal + \"의 이름은 \" + name + \"에요\")\n",
        "\n",
        "hobby = \"공놀이\"\n",
        "\n",
        "print(name + \"는 \" + str(age) + \"살이며, \" + hobby + \"을 아주 좋아해요\") # 6행과 11행 중 11행에서 저장된 변수값 출력\n",
        "print(name, \"는 \", age, \"살이며, \", hobby, \"을 아주 좋아해요\")\n",
        "print(name + \"는 어른일까요? \" + str(is_adult)) # 변수를  '+' 로 연결시 숫자형 자료형을 문자형으로 변환하여 사용하여야 한다. => str( )"
      ],
      "metadata": {
        "colab": {
          "base_uri": "https://localhost:8080/"
        },
        "id": "meuZIY7B2yr8",
        "outputId": "38c040fa-0ee7-4003-b393-d45898ab84a3"
      },
      "execution_count": null,
      "outputs": [
        {
          "output_type": "stream",
          "name": "stdout",
          "text": [
            "우리집 강아지의 이름은 연탄이에요\n",
            "연탄이는 4살이며, 공놀이을 아주 좋아해요\n",
            "연탄이 는  4 살이며,  공놀이 을 아주 좋아해요\n",
            "연탄이는 어른일까요? True\n"
          ]
        }
      ]
    },
    {
      "cell_type": "code",
      "source": [
        "print(1 + 1) # 정수 + 정수\n",
        "print(1 + 1.5) # 정수 + 실수\n",
        "print(1 + \"1\") # 정수 + 문자열"
      ],
      "metadata": {
        "colab": {
          "base_uri": "https://localhost:8080/"
        },
        "id": "sPp2qlLD_yFw",
        "outputId": "f0841675-73ad-47f3-f9fb-d56a84b8f1be"
      },
      "execution_count": null,
      "outputs": [
        {
          "output_type": "stream",
          "name": "stdout",
          "text": [
            "2\n",
            "2.5\n"
          ]
        },
        {
          "output_type": "error",
          "ename": "TypeError",
          "evalue": "ignored",
          "traceback": [
            "\u001b[0;31m---------------------------------------------------------------------------\u001b[0m",
            "\u001b[0;31mTypeError\u001b[0m                                 Traceback (most recent call last)",
            "\u001b[0;32m<ipython-input-12-68b6756744e4>\u001b[0m in \u001b[0;36m<module>\u001b[0;34m()\u001b[0m\n\u001b[1;32m      1\u001b[0m \u001b[0mprint\u001b[0m\u001b[0;34m(\u001b[0m\u001b[0;36m1\u001b[0m \u001b[0;34m+\u001b[0m \u001b[0;36m1\u001b[0m\u001b[0;34m)\u001b[0m \u001b[0;31m# 정수 + 정수\u001b[0m\u001b[0;34m\u001b[0m\u001b[0;34m\u001b[0m\u001b[0m\n\u001b[1;32m      2\u001b[0m \u001b[0mprint\u001b[0m\u001b[0;34m(\u001b[0m\u001b[0;36m1\u001b[0m \u001b[0;34m+\u001b[0m \u001b[0;36m1.5\u001b[0m\u001b[0;34m)\u001b[0m \u001b[0;31m# 정수 + 실수\u001b[0m\u001b[0;34m\u001b[0m\u001b[0;34m\u001b[0m\u001b[0m\n\u001b[0;32m----> 3\u001b[0;31m \u001b[0mprint\u001b[0m\u001b[0;34m(\u001b[0m\u001b[0;36m1\u001b[0m \u001b[0;34m+\u001b[0m \u001b[0;34m\"1\"\u001b[0m\u001b[0;34m)\u001b[0m \u001b[0;31m# 정수 + 문자열\u001b[0m\u001b[0;34m\u001b[0m\u001b[0;34m\u001b[0m\u001b[0m\n\u001b[0m\u001b[1;32m      4\u001b[0m \u001b[0mprint\u001b[0m\u001b[0;34m(\u001b[0m\u001b[0mstr\u001b[0m\u001b[0;34m(\u001b[0m\u001b[0;36m1\u001b[0m\u001b[0;34m)\u001b[0m \u001b[0;34m+\u001b[0m \u001b[0;34m\"1\"\u001b[0m\u001b[0;34m)\u001b[0m \u001b[0;31m# str(정수) + 문자열\u001b[0m\u001b[0;34m\u001b[0m\u001b[0;34m\u001b[0m\u001b[0m\n",
            "\u001b[0;31mTypeError\u001b[0m: unsupported operand type(s) for +: 'int' and 'str'"
          ]
        }
      ]
    },
    {
      "cell_type": "code",
      "source": [
        "print(str(1) + \"1\") # str(정수) + 문자열"
      ],
      "metadata": {
        "colab": {
          "base_uri": "https://localhost:8080/"
        },
        "id": "yTHlvkfKBW7y",
        "outputId": "c8c66f20-a12a-4593-f03a-8f00e25fa433"
      },
      "execution_count": null,
      "outputs": [
        {
          "output_type": "stream",
          "name": "stdout",
          "text": [
            "11\n"
          ]
        }
      ]
    },
    {
      "cell_type": "code",
      "source": [
        "name = \"연탄이\"\n",
        "age = 4\n",
        "\n",
        "print( name, age, \"살입니다,\")"
      ],
      "metadata": {
        "colab": {
          "base_uri": "https://localhost:8080/"
        },
        "id": "Odp4afcFBZki",
        "outputId": "f19033cb-b7ef-4a90-9d37-0432890d69fe"
      },
      "execution_count": null,
      "outputs": [
        {
          "output_type": "stream",
          "name": "stdout",
          "text": [
            "연탄이 4 살입니다,\n"
          ]
        }
      ]
    },
    {
      "cell_type": "markdown",
      "source": [
        "##**3.6 주석**"
      ],
      "metadata": {
        "id": "I-jEf8cTMb5b"
      }
    },
    {
      "cell_type": "code",
      "source": [
        "# 문제\n",
        "# 단축키(Ctrl + /)를 이용하여 한 줄 주석을 완성하세요\n",
        "Quiz) 변수를 이용하여 다음 문장을 출력하시오\n",
        "\n",
        "# 정답\n",
        "# Quiz) 변수를 이용하여 다음 문장을 출력하시오\n",
        "\n",
        "# 문제\n",
        "# 여러 줄 주석(\"\"\" \"\"\")를 이용하여 여러 줄 주석을 완성하세요\n",
        "\n",
        "변수명 : station\n",
        "\n",
        "변수값 : \"사당\", \"신도림\", \"인천공항\" 순서대로 입력\n",
        "\n",
        "출력 문장 : xx 행 열차가 들어오고 있습니다.\n",
        "\n",
        "# 정답\n",
        "\"\"\"\n",
        "변수명 : station\n",
        "변수값 : \"사당\", \"신도림\", \"인천공항\" 순서대로 입력\n",
        "출력 문장 : xx 행 열차가 들어오고 있습니다.\n",
        "\"\"\""
      ],
      "metadata": {
        "id": "25p17tljMexQ"
      },
      "execution_count": null,
      "outputs": []
    },
    {
      "cell_type": "markdown",
      "source": [
        "##**확인문제(선택형)**"
      ],
      "metadata": {
        "id": "P-tuJtNKSf_S"
      }
    },
    {
      "cell_type": "code",
      "source": [
        "# 문제1. 공통으로 입력될 함수를 작성\n",
        "\n",
        "type_change = '3'\n",
        "print( type(type_change) ) # (   ①   ) (type_change)\n",
        "\n",
        "int_type = int(type_change)\n",
        "print( type(int_type) ) # (   ①   )(int_type)\n",
        "\n",
        "# 출력 결과\n",
        "# <class str>\n",
        "# <class int>"
      ],
      "metadata": {
        "colab": {
          "base_uri": "https://localhost:8080/"
        },
        "id": "QioFaHQkSlyo",
        "outputId": "115fb6e2-3a9f-4511-a79f-485bffa4b3ea"
      },
      "execution_count": null,
      "outputs": [
        {
          "output_type": "stream",
          "name": "stdout",
          "text": [
            "<class 'str'>\n",
            "<class 'int'>\n"
          ]
        }
      ]
    },
    {
      "cell_type": "code",
      "source": [
        "# 문제3. is_adult 변수의 자료형은?\n",
        "\n",
        "age = 4\n",
        "is_adult = age >= 3\n",
        "\n",
        "print(type(is_adult))"
      ],
      "metadata": {
        "colab": {
          "base_uri": "https://localhost:8080/"
        },
        "id": "FDBLykw9TUzb",
        "outputId": "b3679c84-a81b-4fb7-c823-37775520ddb3"
      },
      "execution_count": null,
      "outputs": [
        {
          "output_type": "stream",
          "name": "stdout",
          "text": [
            "<class 'bool'>\n"
          ]
        }
      ]
    },
    {
      "cell_type": "markdown",
      "source": [
        "##**확인문제(작업형)**"
      ],
      "metadata": {
        "id": "geA737Q_Nt10"
      }
    },
    {
      "cell_type": "code",
      "source": [
        "# Quiz) 변수를 이용하여 다음 문장을 출력하시오\n",
        "\n",
        "\"\"\"\n",
        "변수명 : station\n",
        "\n",
        "변수값 : \"사당\", \"신도림\", \"인천공항\" 순서대로 입력\n",
        "\n",
        "출력 문장 : xx 행 열차가 들어오고 있습니다.\n",
        "\"\"\"\n",
        "\n",
        "station = \"사당\"\n",
        "print(station + \"행 열차가 들어오고 있습니다.\")\n",
        "\n",
        "\n",
        "# stations = [\"사당    \", \"신도림  \", \"인천공항\"]\n",
        "\n",
        "# for station in stations:\n",
        "#   print(station + \" 행 열차가 들어오고 있습니다.\")"
      ],
      "metadata": {
        "colab": {
          "base_uri": "https://localhost:8080/"
        },
        "id": "D2v5yEVjNx5V",
        "outputId": "cd2133f1-fb7c-4226-c463-7f671ee53bc1"
      },
      "execution_count": null,
      "outputs": [
        {
          "output_type": "stream",
          "name": "stdout",
          "text": [
            "사당행 열차가 들어오고 있습니다.\n"
          ]
        }
      ]
    }
  ]
}